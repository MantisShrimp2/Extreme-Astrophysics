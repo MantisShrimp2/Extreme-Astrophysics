{
 "cells": [
  {
   "cell_type": "code",
   "execution_count": 1,
   "id": "f6639ad4-001c-4823-a1e7-bdb672aa4e0d",
   "metadata": {
    "id": "f6639ad4-001c-4823-a1e7-bdb672aa4e0d"
   },
   "outputs": [],
   "source": [
    "'''Karan and Syarief '''\n",
    "import numpy as np\n",
    "import matplotlib.pyplot as plt\n",
    "from scipy.special import gamma\n",
    "import scipy.integrate as integrate\n",
    "from scipy.integrate import quad\n",
    "from scipy.special import kv\n",
    "import csv"
   ]
  },
  {
   "cell_type": "code",
   "execution_count": 27,
   "id": "c1a98744-8eb3-4a28-b91b-1be42a0acab9",
   "metadata": {
    "id": "c1a98744-8eb3-4a28-b91b-1be42a0acab9"
   },
   "outputs": [
    {
     "name": "stdout",
     "output_type": "stream",
     "text": [
      "7.132956555432109\n",
      "10.426076749590557\n"
     ]
    }
   ],
   "source": [
    "                                                                                                                                                #constants from assignment 3 solutions changed for this assignment\n",
    "\n",
    "M = 9.2         # Mass of J1820* in M_sun Chakroboty paper\n",
    "M_sun = 1.988e33     # Solar mass in g\n",
    "Ledd = 1.26e38 * M   # Eddington luminosity in erg/s\n",
    "lightspeed = 2.997e10         # Speed of light in vaccum in cm/s\n",
    "G = 6.67e-8          # Gravitational constant in erg cm/g^2\n",
    "rg = G*M*M_sun/lightspeed**2# Gravitational radius in cm\n",
    "me = 9.1e-28         # Electron mass in g\n",
    "q = 4.8e-10          # Electron charge in esu\n",
    "#eta = 1e-7\n",
    "eta = 0.15          # radiative efficiency\n",
    "R0 = 10*rg \n",
    "print(np.log10(R0))# beginning radius of the blob in cm\n",
    "p = 4                # power law index\n",
    "nuSSA = 1e12            # frequency in Hz self synchrotron\n",
    "omega = 2*np.pi*nuSSA # angular frequency\n",
    "pitch = 63*np.pi/180     # pitch angle in radians 63 from  radio parallax paper\n",
    "vr = 0.89*lightspeed #broadband rodi paper cm/s\n",
    "planck = 1e-27 # planck constant in erg*s\n",
    "thomp_cross= 7e-25 #cm**2\n",
    "print(np.log10(vr))\n",
    "lorentz_min = 1.1\n",
    "lorentz_cyc_max = 2.0\n",
    "lorentz = 1000 #find literature for this value\n",
    "theta = 150*(10**3)/(0.5*10**6) #KT/mc*2, KT from chakroboty paper\n",
    "Distance_to_maxi = 2.96 * (3*10**21) # kpc distance to MAXIJ in cm from Atri paper\n",
    "B_paper = 1.4e6 #gauss from Rodi paper"
   ]
  },
  {
   "cell_type": "code",
   "execution_count": 3,
   "id": "_9DyxIqb8n4M",
   "metadata": {
    "id": "_9DyxIqb8n4M"
   },
   "outputs": [],
   "source": [
    "#import data from Rodi paper for flux densnity\n",
    "filename = 'Flux_density_data.csv'\n",
    "# Open the CSV file and read the flux and frequency\n",
    "with open(filename, 'r') as file:\n",
    "    # read the file\n",
    "    csv_reader = csv.reader(file)\n",
    "\n",
    "    # Skip the header if it exists\n",
    "    next(csv_reader, None)\n",
    "\n",
    "    # Transpose the rows to columns using zip\n",
    "    columns = list(zip(*csv_reader))\n",
    "\n",
    "    column_arrays = [np.array(column_data) for column_data in columns]\n",
    "\n",
    "data_freq = [float(items) for items in column_arrays[0]]#column_arrays[0] #hz\n",
    "data_flux = [float(items) for items in column_arrays[1]] #convert flux to mjy"
   ]
  },
  {
   "cell_type": "code",
   "execution_count": 4,
   "id": "1f126a3f-30d2-4c0d-b04f-ca217d61b8b3",
   "metadata": {
    "id": "1f126a3f-30d2-4c0d-b04f-ca217d61b8b3"
   },
   "outputs": [],
   "source": [
    "def absorption(freq,C,mag,p):\n",
    "    '''Evaluate the absorption coefficent for various p indicies\n",
    "    include angular dependence\n",
    "    Follows rybecki and Lightmann ch.6\n",
    "    input:\n",
    "    freq- frequnecy float hz\n",
    "    C: see function C_consant\n",
    "    mag: magnetic field strength gauss\n",
    "    variables:\n",
    "    gammas- evaluate a specific gamma function for different p values\n",
    "    absorb- the absorption coeifficent\n",
    "    p- p index\n",
    "\n",
    "    return\n",
    "    absorbtion coefficient'''\n",
    "    gamA = gamma((3*p+2)/12)\n",
    "    gamB = gamma((3*p+22)/12)\n",
    "    fracA = np.sqrt(3)*q**3/(8*np.pi*me)\n",
    "    fracB = (3*q/(2*np.pi*me**3 * lightspeed**5))\n",
    "    fracB  = np.power(fracB, p/2)\n",
    "\n",
    "    abs_const = gamA*gamB*fracA*fracB\n",
    "\n",
    "    absorb = abs_const*C*(mag**((p+2)/2))*(freq**(-(p+4)/2))\n",
    "\n",
    "    return absorb"
   ]
  },
  {
   "cell_type": "code",
   "execution_count": 5,
   "id": "2d3d4b7d-1896-4c01-9415-8ddadd45e437",
   "metadata": {
    "id": "2d3d4b7d-1896-4c01-9415-8ddadd45e437"
   },
   "outputs": [],
   "source": [
    "def cyclo_freq(gamma, mag):\n",
    "  '''Define the cyclotron freqeuncy regime in terms of larmor frequency and\n",
    "   lorentz factor\n",
    "   input:\n",
    "   gamma - loretz factor uniteless\n",
    "   mag- float magnetic field strength in gauss\n",
    "\n",
    "   return\n",
    "   cyclotorn frequency float\n",
    "   '''\n",
    "   #wg =eB/mc = 1.8e7 Bg/s\n",
    "  wg = (1.8e7)*mag #angular frequency\n",
    "  wg = wg/(2*np.pi) # convert to frequncy Hz\n",
    "\n",
    "  return gamma*wg"
   ]
  },
  {
   "cell_type": "code",
   "execution_count": 6,
   "id": "53bf6798-6e8b-4b08-9d7f-80330d5b8950",
   "metadata": {
    "id": "53bf6798-6e8b-4b08-9d7f-80330d5b8950",
    "scrolled": true
   },
   "outputs": [],
   "source": [
    "radiusSGRA = R0 #radius of corona, not SGRA\n",
    "\n",
    "\n",
    "Rkpc = R0/(10**21)\n",
    "B0 = ((nuSSA/100e6)/Rkpc**(1/3))\n",
    "B0 = ((B0)**(3/4))/1e3 # intial\n",
    "\n",
    "\n",
    "# def magentic_field(Radius, dz):\n",
    "#     '''I know it's spelled wrong, but it's too late\n",
    "#     Calculate the Magnetic field strength of the jet from equipartition\n",
    "#     Define a conserved flux , and return a 1/r dependent field\n",
    "#     input:\n",
    "#     radius- radius of jet in cm\n",
    "\n",
    "#     variables:\n",
    "#     B_r - magnetic field Gauss\n",
    "#     return\n",
    "#     B_r'''\n",
    "\n",
    "#     B_r  = mag_flux/(Radius) #gauss\n",
    "#     return B_r"
   ]
  },
  {
   "cell_type": "code",
   "execution_count": 7,
   "id": "c2f2ba56-792d-4766-862b-a997371eaec5",
   "metadata": {
    "id": "c2f2ba56-792d-4766-862b-a997371eaec5"
   },
   "outputs": [],
   "source": [
    "#redefine frequency array between min and max of characteristic frequncy\n",
    "\n",
    "v_min = B_paper*(lorentz_min**2)*(4.3e6) #hz\n",
    "v_max  = B_paper*(lorentz**2)*(4.3e6) #hz\n",
    "#v_max is too small to see cutoff\n",
    "freq_arr = np.logspace(np.log10(v_min), np.log10(v_max), num=1000)\n",
    "A0 =4*np.pi*radiusSGRA**2 # area of sphere of 10rg\n",
    "#eta =0.1\n",
    "# mdot = (1e-8)*M_sun/(1e7)\n",
    "def C_constant(L_edd, energy,p):\n",
    "    '''Calculate the C constant using the eddington luminosity\n",
    "    and electron energy, for various p indicies\n",
    "\n",
    "    input:\n",
    "    L_eff -float of  eddington luminosity  erg/s\n",
    "    energy- energy of electron in ergs\n",
    "    p - power law index unitless p cannot be 2\n",
    "    variables:\n",
    "    Ub- magnetic field density\n",
    "    lorentz - gamma factor\n",
    "    C_hat: C constant for absorption coefficent\n",
    "    C : other C constant for power\n",
    "    return\n",
    "    C, C_hat'''\n",
    "    Ut = (eta*L_edd)/(4*np.pi*R0*R0*vr)\n",
    "    Ue = Ut\n",
    "    Ub = Ue #equipartion\n",
    "    #numerically integrate the energy array\n",
    "    B = np.sqrt(4*np.pi*Ub) # for verification\n",
    "    print(Ue)\n",
    "    print(\"this is B\", np.log(B))\n",
    "    Energy_integral = np.trapz(energy**(-p+1))\n",
    "\n",
    "    C_hat = Ut/Energy_integral\n",
    "\n",
    "    C = C_hat/(me*lightspeed**2)  # power\n",
    "    return C, C_hat\n"
   ]
  },
  {
   "cell_type": "code",
   "execution_count": 8,
   "id": "6197591d-5de1-4bc6-8722-9f89c2bbd534",
   "metadata": {
    "id": "6197591d-5de1-4bc6-8722-9f89c2bbd534"
   },
   "outputs": [],
   "source": [
    "def emission_coef(freq, C_const, mag,p):\n",
    "    '''Evaluate the sychlotron emission coefficent for various powers of p\n",
    "    from rybecki and lightmann ch.6\n",
    "    total power per unit volume per unit frequency\n",
    "    input:\n",
    "    freq- frequnecy\n",
    "    C: see function C_consant\n",
    "    mag: magnetic field strength see function mag_density\n",
    "    variables:\n",
    "    gammas- evaluate a specific gamma function for different p values\n",
    "    emission- the emission coeifficent\n",
    "    p - p index unitless\n",
    "\n",
    "    return\n",
    "    emission'''\n",
    "    gamC = gamma((p/4)+(19/12))\n",
    "    gamD = gamma((p/4)-(1/12))\n",
    "    fracA  = (np.sqrt(3*q**3))/((p+1)*2*np.pi*me*lightspeed**2)\n",
    "\n",
    "    ems_const = gamC*gamD*fracA\n",
    "\n",
    "    #for clarity\n",
    "    the_frac_with_p = (me*lightspeed*2*np.pi*freq)/(3*q*mag)\n",
    "    power_of_p = np.power(the_frac_with_p, -(p-1)/2)\n",
    "\n",
    "\n",
    "    emission = ems_const * mag * C_const * power_of_p\n",
    "    return emission"
   ]
  },
  {
   "cell_type": "code",
   "execution_count": 9,
   "id": "24Bk38kGw4Hp",
   "metadata": {
    "id": "24Bk38kGw4Hp"
   },
   "outputs": [],
   "source": [
    "def momentum(lorentz):\n",
    "  '''Define a unitless momentum to calculate the emission spectrum\n",
    "  from K. Katarzynski ´ 1,2, G. Ghisellini1, R. Svensson, and J. Gracia3 2006\n",
    "  input:\n",
    "  lorentz - loretnz factor\n",
    "  return dimensionless momentum\n",
    "  '''\n",
    "  # paragraph below equation 1 in paper mentioned\n",
    "  p_no_dim = np.sqrt((lorentz**2) - 1)\n",
    "  return p_no_dim"
   ]
  },
  {
   "cell_type": "code",
   "execution_count": 10,
   "id": "vWuJ-X7wfv3k",
   "metadata": {
    "id": "vWuJ-X7wfv3k"
   },
   "outputs": [],
   "source": [
    "def emissivity_cyc(freq, mag, mom):\n",
    "  '''Define the emissivity by cyclotron emission of the corona for lorentz <2\n",
    "  input:\n",
    "  mu -frequency array hz\n",
    "  mag - array magnetic field strength gauss\n",
    "  mom - electron momentum unitless\n",
    "  '''\n",
    "  #calculate the emission by breaking it down into fractions\n",
    "  mu_l = q*mag/(2*np.pi*me*lightspeed) # larmor frequency\n",
    "  fracA = (4*mom**2)/3\n",
    "  Ub = mag**2/(8*np.pi)\n",
    "  fracB = (thomp_cross*lightspeed)/mu_l\n",
    "  fracC = 2/(1+ 3*mom**2)\n",
    "  fracD = np.exp(2*(1-(freq/mu_l))/(1+3*mag**2))\n",
    "  return fracA*fracB*fracC*fracD"
   ]
  },
  {
   "cell_type": "code",
   "execution_count": 11,
   "id": "7NeGEgMGnh2l",
   "metadata": {
    "id": "7NeGEgMGnh2l"
   },
   "outputs": [],
   "source": [
    "def number_distro(lorentz):\n",
    "  '''Return a number distribution as a function of gamma\n",
    "  from BHjet paper\n",
    "  '''\n",
    "  n = 1 # i assume this value\n",
    "   # from BHjet paper\n",
    "  N_o = (n/me*lightspeed**3)/(theta * kv(2,1/theta))\n",
    "  fracA = (N_o*lorentz/(np.sqrt(lorentz**2 -1)))\n",
    "  fracB = ((lorentz**2 - 1) * np.exp(-lorentz/theta))\n",
    "  N = fracA * fracB\n",
    "  return N\n"
   ]
  },
  {
   "cell_type": "code",
   "execution_count": 12,
   "id": "vEpdwXxpqrt6",
   "metadata": {
    "id": "vEpdwXxpqrt6"
   },
   "outputs": [],
   "source": [
    "def integrated_emmisivity(N, j):\n",
    "  '''Integrate the emissivity wrt to gamma follow Bhjet paper\n",
    "   Define the emissivity by cyclotron emission of the corona for lorentz <2\n",
    "  input:\n",
    "  gamma__min, gamma_max - float, min and max of gamma array this is different if\n",
    "  in synch or cyclo regime\n",
    "  N - func of distribution of electrons in the corona with N(gamma)\n",
    "  j - func emissivity either cyclo or synchro'''\n",
    "  the_integral = np.trapz(N*j)\n",
    "  return the_integral\n"
   ]
  },
  {
   "cell_type": "code",
   "execution_count": 13,
   "id": "fc0acf17-bb43-42f7-a251-88a8793770a8",
   "metadata": {
    "id": "fc0acf17-bb43-42f7-a251-88a8793770a8"
   },
   "outputs": [
    {
     "name": "stdout",
     "output_type": "stream",
     "text": [
      "2812223979142.548\n",
      "this is B 15.598010492431472\n"
     ]
    }
   ],
   "source": [
    "#calculate the C constant\n",
    "temp_electron_energy = np.linspace(lorentz_min*me*lightspeed**2, lorentz*me*lightspeed**2)\n",
    "C, C_hat = C_constant(Ledd,temp_electron_energy, p=4)\n",
    "def source(absorb, emission):\n",
    "    '''Calculate the source function in Cgs units\n",
    "    Sv = power/(4*pi*absorption_coefficent)\n",
    "    input:\n",
    "    absorb - absorption_coefficent\n",
    "    emiision - total power\n",
    "    '''\n",
    "    return emission/(4*np.pi*absorb)"
   ]
  },
  {
   "cell_type": "code",
   "execution_count": 14,
   "id": "1331f45b-6204-41be-ade0-07bff45dedd0",
   "metadata": {
    "id": "1331f45b-6204-41be-ade0-07bff45dedd0"
   },
   "outputs": [],
   "source": [
    "def Iv(source, tau):\n",
    "    '''Calculate the intensity in cgs units'''\n",
    "    Iv = source*(1-np.exp(-tau))\n",
    "    return Iv\n",
    "#IvSSA = Iv(Sv,tau)\n",
    "def flux_spec(freq, Iv,radius):\n",
    "    '''Calculate the flux spectrum normalize around vssa and inital luminosity'''\n",
    "    #normalize flux around inital luminosity\n",
    "    Fv = Iv*(radius/Distance_to_maxi)**2\n",
    "    jansky_cov = 10**-26 # convert to mjansky\n",
    "    Fv = Fv/jansky_cov\n",
    "    return Fv\n",
    "#Fv = flux_spec(freq_arr, IvSSA,radiusSGRA)\n",
    "def optical_depth(absorb, radius):\n",
    "  ''' Calculate the optical depth of the corona\n",
    "  input:\n",
    "  Absorb: float of absorption coeifficent cgs units\n",
    "  radius: float of radius of blob in cm'''\n",
    "  return absorb*radius\n"
   ]
  },
  {
   "cell_type": "code",
   "execution_count": 15,
   "id": "1a0821f1-43e8-432d-99f4-49b0b3268b02",
   "metadata": {},
   "outputs": [
    {
     "name": "stdout",
     "output_type": "stream",
     "text": [
      "2812223979142.548\n",
      "this is B 15.598010492431472\n"
     ]
    }
   ],
   "source": [
    "C, C_hat = C_constant(Ledd,temp_electron_energy, p=4)"
   ]
  },
  {
   "cell_type": "code",
   "execution_count": 16,
   "id": "07f7126a-7eb6-4efb-b89e-2cfdf95e4981",
   "metadata": {
    "colab": {
     "base_uri": "https://localhost:8080/",
     "height": 476
    },
    "id": "07f7126a-7eb6-4efb-b89e-2cfdf95e4981",
    "outputId": "52b9afb8-244a-4bd8-a50a-36442e923703"
   },
   "outputs": [
    {
     "name": "stdout",
     "output_type": "stream",
     "text": [
      "2812223979142.548\n",
      "this is B 15.598010492431472\n",
      "2812223979142.548\n",
      "this is B 15.598010492431472\n"
     ]
    },
    {
     "data": {
      "image/png": "[encoded data removed]",
      "text/plain": [
       "<Figure size 640x480 with 1 Axes>"
      ]
     },
     "metadata": {},
     "output_type": "display_data"
    }
   ],
   "source": [
    "total_flux = []\n",
    "total_int = []\n",
    "temp_electron_energy =  np.linspace(me*lightspeed**2, lorentz*me*lightspeed**2,num=100)\n",
    "C, C_hat = C_constant(Ledd,temp_electron_energy, p=4)\n",
    "for i in [0]: # only take first slice of jet as spectrum\n",
    "    mag_temp =B_paper\n",
    "    C_temp, C_hat_temp = C_constant(Ledd,temp_electron_energy, p=4)\n",
    "    emission_temp = emission_coef(freq_arr,C_temp, mag_temp,p=4)\n",
    "    absorb_temp = absorption(freq_arr,C_hat_temp, mag_temp,p=4)\n",
    "    source_temp = source(absorb_temp,emission_temp)\n",
    "    tau_temp = optical_depth(absorb_temp, radiusSGRA)\n",
    "\n",
    "    Iv_temp = Iv(source_temp,tau_temp)\n",
    "    total_int.append(Iv_temp)\n",
    "    Fv_temp = flux_spec(freq_arr, Iv_temp, radiusSGRA)\n",
    "    total_flux.append(Fv_temp)\n",
    "    #plt.plot(freq_arr,Fv_temp)\n",
    "\n",
    "#sum all the slices\n",
    "total_spectrum = [sum(x) for x in zip(*total_flux)]\n",
    "\n",
    "plt.title(\"Synchrotron Spectrum\")\n",
    "plt.xscale('log')\n",
    "plt.yscale(\"log\")\n",
    "plt.ylabel(\"$F_v$ mJy\")\n",
    "plt.xlabel(\"Frequency Hz\")\n",
    "plt.plot(freq_arr, total_spectrum, color='tab:orange',label= \"SSA flux\")\n",
    "plt.legend()\n",
    "plt.show()\n"
   ]
  },
  {
   "cell_type": "code",
   "execution_count": 17,
   "id": "UrjgxjiMfftc",
   "metadata": {
    "colab": {
     "base_uri": "https://localhost:8080/",
     "height": 474
    },
    "id": "UrjgxjiMfftc",
    "outputId": "1f13d44a-efae-4fa8-f191-8f36c8152194"
   },
   "outputs": [
    {
     "name": "stdout",
     "output_type": "stream",
     "text": [
      "2812223979142.548\n",
      "this is B 15.598010492431472\n"
     ]
    },
    {
     "data": {
      "image/png": "[encoded data removed]",
      "text/plain": [
       "<Figure size 640x480 with 1 Axes>"
      ]
     },
     "metadata": {},
     "output_type": "display_data"
    }
   ],
   "source": [
    "#make a cycltron emission  spectrum folliwng same process for synchrotron jet\n",
    "lorentz_cyc_max = 2.0\n",
    "lorentz_cyc_arr = np.linspace(lorentz_min, lorentz_cyc_max, num=1000)\n",
    "cyc_momentum = momentum(lorentz_cyc_arr)\n",
    "\n",
    "n_gamma  = number_distro(lorentz_cyc_arr)\n",
    "#cyc_emission_integral = integrated_emmisivity(lorentz_min,lorentz_cyc_max,n_gamma,)\n",
    "total_flux_cyc = []\n",
    "total_int_cyc = []\n",
    "p_cyc = 2.1\n",
    "#make a new frequency array from larmor frequency\n",
    "\n",
    "freq_cyc_min = cyclo_freq(lorentz_min, B_paper)\n",
    "freq_cyc_max =  cyclo_freq(lorentz_cyc_max, B_paper)\n",
    "freq_cyc_arr = np.linspace(freq_cyc_min, freq_cyc_max,1000)\n",
    "\n",
    "for i in [0]: # only take first slice of jet as spectrum\n",
    "    mag_temp =B_paper\n",
    "    C_temp, C_hat_temp = C_constant(Ledd,temp_electron_energy, p=p_cyc)\n",
    "    emission_temp = integrated_emmisivity(n_gamma, emissivity_cyc(freq_cyc_arr, mag_temp,cyc_momentum[i]))\n",
    "    absorb_temp = absorption(freq_cyc_arr,C_hat_temp, mag_temp,p=p_cyc)\n",
    "    source_temp = source(absorb_temp,emission_temp)\n",
    "    tau_temp = optical_depth(absorb_temp, radiusSGRA)\n",
    "    Iv_temp_cyc = Iv(source_temp,tau_temp)\n",
    "    total_int.append(Iv_temp)\n",
    "    Fv_temp = flux_spec(freq_cyc_arr, Iv_temp, radiusSGRA)\n",
    "    total_flux_cyc.append(Fv_temp)\n",
    "    #plt.plot(freq_arr,Fv_temp)\n",
    "\n",
    "#make a new frequency array from charcteristic frequency i should probably define this as a funciton\n",
    "\n",
    "total_spectrum_cyc = [sum(x) for x in zip(*total_flux_cyc)]\n",
    "plt.title(\"cyclotron Spectrum\")\n",
    "plt.xscale('log')\n",
    "plt.yscale(\"log\")\n",
    "plt.ylabel(\"$F_v$ mJy\")\n",
    "plt.xlabel(\"Frequency Hz\")\n",
    "plt.plot(freq_cyc_arr, total_spectrum_cyc, label= \"cyclo flux\")\n",
    "plt.legend()\n",
    "plt.show()\n"
   ]
  },
  {
   "cell_type": "code",
   "execution_count": 18,
   "id": "4mIsTQ6IuGpA",
   "metadata": {
    "colab": {
     "base_uri": "https://localhost:8080/",
     "height": 493
    },
    "id": "4mIsTQ6IuGpA",
    "outputId": "d82f4f92-8a42-43ec-e4d2-a8041a7c2668"
   },
   "outputs": [
    {
     "data": {
      "image/png": "[encoded data removed]",
      "text/plain": [
       "<Figure size 640x480 with 1 Axes>"
      ]
     },
     "metadata": {},
     "output_type": "display_data"
    }
   ],
   "source": [
    "plt.plot(freq_cyc_arr, total_spectrum_cyc, color='tab:blue', label= \"cyclo flux\")\n",
    "plt.plot(freq_arr, total_spectrum, color='tab:orange', label= \"synchrotron flux\")\n",
    "plt.scatter(data_freq, data_flux, color='k',label='Rodi (2021)')\n",
    "plt.xscale('log')\n",
    "plt.yscale(\"log\")\n",
    "plt.ylabel(\"$F_v$ mJy\")\n",
    "plt.xlabel(\"Frequency Hz\")\n",
    "plt.title(\"total spectrum observed from earth\")\n",
    "\n",
    "plt.legend()\n",
    "plt.savefig('test.png')\n",
    "plt.show()"
   ]
  },
  {
   "cell_type": "code",
   "execution_count": 19,
   "id": "37f618cd-a073-4ae9-960d-953e27be3d90",
   "metadata": {
    "colab": {
     "base_uri": "https://localhost:8080/",
     "height": 476
    },
    "id": "37f618cd-a073-4ae9-960d-953e27be3d90",
    "outputId": "d168a25c-ea71-42ef-d082-e9195293a9d0"
   },
   "outputs": [
    {
     "data": {
      "image/png": "[encoded data removed]",
      "text/plain": [
       "<Figure size 640x480 with 1 Axes>"
      ]
     },
     "metadata": {},
     "output_type": "display_data"
    }
   ],
   "source": [
    "total_int_final = [sum(x) for x in zip(*total_int)]\n",
    "\n",
    "electron_energy = np.linspace(me*lightspeed**2, lorentz*me*lightspeed**2, num=len(total_int_final))\n",
    "photon_energy = planck*freq_arr\n",
    "#make a distribution copied from the distribution demo\n",
    "def freq_distro(intensity, photon_energy):\n",
    "    '''Create a frequency distribution as function of energy\n",
    "    v(e)de = intensity/hv\n",
    "    input:\n",
    "    Intensity-array of Intnesity spectrum cgs\n",
    "    photon_ energy - array of energy cgs\n",
    "    Variables:\n",
    "\n",
    "\n",
    "    number_of_photons - float array of total number of photons in the jet\n",
    "    pdf- probability density function for photon\n",
    "    ve_distro - number of\n",
    "    return- ve_distro, pdf'''\n",
    "\n",
    "    number_of_photons= (intensity)/(4*np.pi*photon_energy)\n",
    "    pdf = number_of_photons/np.sum(number_of_photons)\n",
    "    cdf = np.cumsum(pdf)\n",
    "    u = np.random.uniform(0, 1, size=len(photon_energy))\n",
    "    ve_distro = np.interp(u, cdf, freq_arr)\n",
    "    return ve_distro, pdf\n",
    "\n",
    "\n",
    "#sample of photon distribtution input this as h*pdfVe to get energy of photon\n",
    "ve_distro, pdfVE = freq_distro(total_int_final, photon_energy)\n",
    "plt.hist(ve_distro, bins=freq_arr)\n",
    "plt.xscale('log')\n",
    "plt.yscale(\"log\")\n",
    "plt.ylabel(\"V(E)de\")\n",
    "plt.title(\"Probability distribution of Photons\")\n",
    "plt.xlabel(\"photon frequency Hz\")\n",
    "plt.show()"
   ]
  },
  {
   "cell_type": "code",
   "execution_count": 21,
   "id": "BO-wgqwVoWOZ",
   "metadata": {
    "colab": {
     "base_uri": "https://localhost:8080/"
    },
    "id": "BO-wgqwVoWOZ",
    "outputId": "c70b52fe-d901-4d35-9740-61c3d366b704"
   },
   "outputs": [
    {
     "data": {
      "text/plain": [
       "1000"
      ]
     },
     "execution_count": 21,
     "metadata": {},
     "output_type": "execute_result"
    }
   ],
   "source": [
    "#sampled photon energy for SCC\n",
    "E_samp_SCC = planck*ve_distro\n",
    "len(E_samp_SCC)\n"
   ]
  },
  {
   "cell_type": "code",
   "execution_count": 22,
   "id": "415b2043-90c8-4b0c-8a8e-0507d028c1b1",
   "metadata": {
    "colab": {
     "base_uri": "https://localhost:8080/",
     "height": 476
    },
    "id": "415b2043-90c8-4b0c-8a8e-0507d028c1b1",
    "outputId": "92fd8b24-207a-4199-b437-09842b5a1557"
   },
   "outputs": [
    {
     "data": {
      "image/png": "[encoded data removed]",
      "text/plain": [
       "<Figure size 640x480 with 1 Axes>"
      ]
     },
     "metadata": {},
     "output_type": "display_data"
    }
   ],
   "source": [
    "#create an electron distriubtion\n",
    "def electron_distro(electron_energy, C,p):\n",
    "    '''ne = C E^-p dE\n",
    "    calculate the electron energy distribution\n",
    "    input:\n",
    "    electon_energy- array of energies\n",
    "    C - from energy density see C_const funciton\n",
    "\n",
    "    variables:\n",
    "    number_of_electrons - similar to freq distro calculate the number of electrons\n",
    "    from power law distro\n",
    "    pdf- probability density function for number of electrons\n",
    "    return\n",
    "    ne, pdf'''\n",
    "    number_of_electrons = C*(electron_energy**(-p+1)) #make a pdf of the electron distribution\n",
    "    pdf = number_of_electrons/np.sum(number_of_electrons) # normalize the pdf\n",
    "    cdf = np.cumsum(pdf) # make a cdf\n",
    "\n",
    "    u = np.random.uniform(0, 1, size=len(electron_energy))\n",
    "    ne = np.interp(u, cdf, electron_energy)\n",
    "    return ne, pdf\n",
    "\n",
    "#evaulate at the base of the jet\n",
    "ne, pdfNE = electron_distro(electron_energy, C,p)\n",
    "gamma_arr = electron_energy/(me*lightspeed**2)\n",
    "\n",
    "momentum_arr = momentum(gamma_arr) # make a s unitless momentum array\n",
    "plt.plot(momentum_arr, pdfNE) # plot as funcion of lorentz factor\n",
    "plt.xscale('log')\n",
    "plt.yscale(\"log\")\n",
    "#plt.hist(ne, bins=10, density=True, alpha=0.6, color='b')\n",
    "plt.xlabel(\"Unitless Momentum\")\n",
    "plt.ylabel(\"Ne\")\n",
    "plt.title(\"Electron Distribution (Power Law)\")\n",
    "plt.savefig(\"powerlaw.png\")\n",
    "plt.show()"
   ]
  },
  {
   "cell_type": "code",
   "execution_count": null,
   "id": "8b93fa98-4fa9-4a70-972b-d9967ddae365",
   "metadata": {
    "colab": {
     "base_uri": "https://localhost:8080/",
     "height": 476
    },
    "id": "8b93fa98-4fa9-4a70-972b-d9967ddae365",
    "outputId": "bf8c93b0-97ba-4afe-99bb-5e9a95d70016"
   },
   "outputs": [],
   "source": [
    "#make a velocity distro of electrons\n",
    "def vel_distro(lorentz):\n",
    "    '''Calculate a velocity distribution for the electrons using lorentz factor\n",
    "    input:\n",
    "    lorentz - float arr of lorentz factors unitless\n",
    "    variables:\n",
    "    v - speed of electron in cm/s\n",
    "    return:\n",
    "    v'''\n",
    "    v = lightspeed * np.sqrt(1 - 1/lorentz**2)\n",
    "    return v\n",
    "electron_vel = vel_distro(gamma_arr)\n",
    "\n",
    "plt.plot(momentum_arr, electron_vel) # plot as funcion of lorentz factor\n",
    "plt.xscale('log')\n",
    "plt.yscale(\"log\")\n",
    "plt.xlabel(\"Unitless momentum\")\n",
    "plt.ylabel(\"velocity of electron cm/s\")\n",
    "plt.title(\"Velocity Distribution of electrons\")\n",
    "plt.show()"
   ]
  },
  {
   "cell_type": "code",
   "execution_count": null,
   "id": "76b9333c-0acd-400d-95b6-c1c2ea64e069",
   "metadata": {
    "colab": {
     "base_uri": "https://localhost:8080/",
     "height": 474
    },
    "id": "76b9333c-0acd-400d-95b6-c1c2ea64e069",
    "outputId": "e30570a0-df6a-4f6e-c2ec-ffebd3d64c9a"
   },
   "outputs": [],
   "source": [
    "#also plot Ne vs velocity\n",
    "plt.plot(electron_vel, pdfNE ) # plot as funcion of lorentz factor\n",
    "plt.xscale('log')\n",
    "plt.yscale(\"log\")\n",
    "plt.ylabel(\"Ne\")\n",
    "plt.xlabel(\"velocity of electron cm/s\")\n",
    "plt.title(\"Velocity Distribution of electrons\")\n",
    "plt.show()"
   ]
  },
  {
   "cell_type": "code",
   "execution_count": null,
   "id": "e3b1c756-fffb-46c5-8821-0f383ca3234d",
   "metadata": {
    "id": "e3b1c756-fffb-46c5-8821-0f383ca3234d"
   },
   "outputs": [],
   "source": [
    "c_light=lightspeed\n",
    "m_electron=9.10938356e-28\n",
    "sigma_t=6.65e-25\n",
    "figure_counter=0\n",
    "\n",
    "#copy the MC tutorial\n",
    "def compton_y(pre,post):\n",
    "    y = np.mean((post-pre)/pre)\n",
    "    return(y)\n",
    "\n",
    "def random_direction(number=None):\n",
    "    if number is None:\n",
    "        number=1\n",
    "    phi=np.random.rand(number)*2.*np.pi\n",
    "    cos_theta=2.*np.random.rand(number)-np.ones(number)\n",
    "    sin_theta= np.sqrt(1-cos_theta**2)\n",
    "    return((np.array([sin_theta*np.cos(phi),sin_theta*np.sin(phi),cos_theta])).transpose())\n",
    "\n",
    "def f_of_hnu_mono(mc_parms,number=None):\n",
    "    if number is None:\n",
    "        number=1\n",
    "    return(np.ones(number)*mc_parms['kt_seeds'])\n",
    "\n",
    "def photon_origin(number=None):\n",
    "    if number is None:\n",
    "        number=1\n",
    "    return(np.zeros([number,3]))\n",
    "\n",
    "def draw_seed_photons(mc_parms,number=None):\n",
    "    if number is None:\n",
    "        number=1\n",
    "    x_seed=photon_origin(number=number)\n",
    "    n_seed=random_direction(number=number)\n",
    "    hnu=mc_parms['hnu_dist'](mc_parms,number=number)\n",
    "    p_seed=(np.array([hnu,hnu*n_seed[:,0],hnu*n_seed[:,1],hnu*np.abs(n_seed[:,2])])).transpose()/c_light\n",
    "    return(p_seed,x_seed)\n",
    "\n",
    "def tau_of_scatter():\n",
    "    return(-np.log(np.random.rand()))\n",
    "\n",
    "def distance_of_scatter(mc_parms):\n",
    "    tau=tau_of_scatter()\n",
    "    electron_density=mc_parms['tau']/mc_parms['H']/sigma_t\n",
    "    distance=tau/sigma_t/electron_density\n",
    "    return(distance)\n",
    "\n",
    "def scatter_location(x_old,p_photon,mc_parms):\n",
    "    distance = distance_of_scatter(mc_parms)\n",
    "    photon_direction=p_photon[1:]/p_photon[0]\n",
    "    x_new = x_old + distance*photon_direction\n",
    "    return(x_new)\n",
    "\n",
    "def f_of_v_mono(mc_parms):\n",
    "    return(mc_parms['velocity'])\n",
    "\n",
    "def draw_electron_velocity(mc_parms,p_photon):\n",
    "    v=mc_parms['v_dist'](mc_parms)\n",
    "    n=draw_electron_direction(v,p_photon)\n",
    "    return(v*n)\n",
    "\n",
    "def draw_electron_direction(v,p_photon):\n",
    "    phi=2.*np.pi*np.random.rand()\n",
    "    cosp=np.cos(phi)\n",
    "    sinp=np.sin(phi)\n",
    "    cost=mu_of_p_electron(v/c_light,np.random.rand())\n",
    "    sint=np.sqrt(1 - cost**2)\n",
    "\n",
    "    n_1=p_photon[1:]/p_photon[0]\n",
    "    if (np.sum(np.abs(n_1[1:2])) != 0):\n",
    "        n_2=np.cross(n_1,np.array([1,0,0]))\n",
    "    else:\n",
    "        n_2=np.cross(n_1,np.array([0,1,0]))\n",
    "    n_2/=np.sqrt(np.sum(n_2**2))\n",
    "    n_3=np.cross(n_1,n_2)\n",
    "\n",
    "    # express new vector in old base\n",
    "    n_new=(n_2*cosp+n_3*sinp)*sint + n_1*cost\n",
    "    return(n_new/np.sqrt(np.sum(n_new**2)))\n",
    "\n",
    "def mu_of_p_electron(beta,p):\n",
    "    mu=1/beta-np.sqrt(1/beta**2 + 1 - 4*p/beta + 2/beta)\n",
    "    return(mu)\n",
    "\n",
    "def lorentz_transform(p,v):\n",
    "    beta=np.sqrt(np.sum(v**2))/c_light\n",
    "    beta_vec=v/c_light\n",
    "    gamma=1./np.sqrt(1. - beta**2)\n",
    "    matrix=np.zeros((4,4))\n",
    "    matrix[0,0]=gamma\n",
    "    matrix[1:,0]=-gamma*beta_vec\n",
    "    matrix[0,1:]=-gamma*beta_vec\n",
    "    matrix[1:,1:]=(gamma-1)*np.outer(beta_vec,beta_vec)/beta**2\n",
    "    for i in range(1,4):\n",
    "        matrix[i,i]+=1\n",
    "    return(np.dot(matrix,p))\n",
    "\n",
    "def cos_theta_thomson(p):\n",
    "    a=-4 + 8*p\n",
    "    b=a**2 + 4\n",
    "    return((np.power(2,1/3)*np.power(np.sqrt(b)-a,2/3)-2)/\n",
    "           (np.power(2,2/3)*np.power(np.sqrt(b)-a,1/3)))\n",
    "\n",
    "def thomson_scatter(p_photon):\n",
    "    n_1=p_photon[1:]/p_photon[0]\n",
    "    if (np.sum(np.abs(n_1[1:2])) != 0):\n",
    "        n_2=np.cross(n_1,np.array([1,0,0]))\n",
    "    else:\n",
    "        n_2=np.cross(n_1,np.array([0,1,0]))\n",
    "    n_2/=np.sqrt(np.sum(n_2**2))\n",
    "    n_3=np.cross(n_1,n_2)\n",
    "    phi=2.*np.pi*np.random.rand()\n",
    "    cosp=np.cos(phi)\n",
    "    sinp=np.sin(phi)\n",
    "    cost=cos_theta_thomson(np.random.rand())\n",
    "    sint=np.sqrt(1 - cost**2)\n",
    "    n_new=(n_2*cosp+n_3*sinp)*sint + n_1*cost\n",
    "    n_new/=np.sqrt(np.sum(n_new**2))\n",
    "    return(np.array(p_photon[0]*np.array([1,n_new[0],n_new[1],n_new[2]])))\n",
    "\n",
    "def inverse_compton_scatter(p_photon,mc_parms):\n",
    "    velocity=draw_electron_velocity(mc_parms,p_photon)\n",
    "    p_photon_prime=lorentz_transform(p_photon,velocity)\n",
    "    p_out_prime=thomson_scatter(p_photon_prime)\n",
    "    return(lorentz_transform(p_out_prime,-velocity))\n",
    "\n",
    "def monte_carlo(mc_parms):\n",
    "    hnu_seed=np.zeros(mc_parms['n_photons'])\n",
    "    hnu_scattered=hnu_seed.copy()\n",
    "    p_photons,x_photons=draw_seed_photons(mc_parms,number=mc_parms['n_photons'])\n",
    "    for p_photon,x_photon,i in zip(p_photons,x_photons,range(mc_parms['n_photons'])):\n",
    "        hnu_seed[i]=p_photon[0]*c_light\n",
    "        scattered=True\n",
    "        while (scattered):\n",
    "            x_photon = scatter_location(x_photon,p_photon,mc_parms)\n",
    "            if (x_photon[2]>=0 and x_photon[2]<=mc_parms['H']):\n",
    "                p_photon=inverse_compton_scatter(p_photon,mc_parms)\n",
    "            else:\n",
    "                scattered=False\n",
    "                if (x_photon[2]<=0):\n",
    "                    p_photon*=0\n",
    "        hnu_scattered[i]=p_photon[0]*c_light\n",
    "    return(hnu_scattered[hnu_scattered > 0],hnu_seed[hnu_scattered > 0])\n",
    "\n",
    "def plot_mc(mc_parms,bins=None,xlims=None,filename=None):\n",
    "    global figure_counter\n",
    "    if (xlims is None):\n",
    "        xlims=[0.1,100]\n",
    "    if (bins is None):\n",
    "        bins=np.logspace(np.log10(xlims[0]),np.log10(xlims[1]),num=100)\n",
    "    if (filename is None):\n",
    "        filename='inverse_compton_MC_{0:d}.pdf'.format(figure_counter)\n",
    "    hnu_scattered,hnu_seeds=np.array(monte_carlo(mc_parms))/mc_parms['kt_seeds']\n",
    "    fig=plt.figure()\n",
    "    plt.hist(hnu_scattered,bins=bins,log=True,\n",
    "             label=r'$\\tau=${:4.1f}'.format(mc_parms['tau']))\n",
    "    plt.xscale('log')\n",
    "    plt.xlim(xlims[0],xlims[1])\n",
    "    plt.xlabel(r'$h\\nu/h\\nu_{0}$')\n",
    "    plt.ylabel(r'$N(h\\nu)$')\n",
    "    plt.legend()\n",
    "    #fig.savefig(filename)\n",
    "    figure_counter+=1\n",
    "    plt.show()\n",
    "    print('Fraction of escaping photons: {0:5.3e}\\n'.format(hnu_scattered.size/mc_parms['n_photons']))\n",
    "    print('Compton y parameter: {0:5.3e}\\n'.format(compton_y(hnu_seeds,hnu_scattered)))\n",
    "    return(hnu_scattered,hnu_seeds)\n",
    "\n",
    "# mc_parms={'n_photons':10000,'kt_seeds':1.6e-9,'H':1e7,'velocity':3e9,'tau':0.1,'v_dist':f_of_v_mono,'hnu_dist':f_of_hnu_mono}\n",
    "\n",
    "# hnu_scattered,hnu_seeds=plot_mc(mc_parms,bins=100)\n",
    "\n",
    "def f_of_v_maxwell(mc_parms):\n",
    "    v=3e10\n",
    "    while v >= c_light:\n",
    "        v=np.sqrt(mc_parms['kt_electron']/(m_electron))*np.sqrt(np.sum((np.random.normal(0,1,3))**2))\n",
    "    return(v)\n",
    "\n",
    "# mc_parms={'n_photons':10000,'kt_seeds':1.6e-9,'H':1e7,'velocity':3e9,'tau':0.1,'kt_electron':3.2e-8,'v_dist':f_of_v_maxwell,'hnu_dist':f_of_hnu_mono}\n",
    "# mc_parms['velocity']=np.sqrt(mc_parms['kt_electron']/(m_electron))\n",
    "# hnu_scattered,hnu_seeds=plot_mc(mc_parms)\n",
    "\n",
    "def f_planck(x):\n",
    "    norm=2.4041138063192817\n",
    "    return x**2/(np.exp(x)-1)/norm\n",
    "\n",
    "def p_planck(hnu=None):\n",
    "    if (hnu is None):\n",
    "        number=1000\n",
    "        hnu=np.append(np.linspace(0,1-1./number,number),np.logspace(0,4,number))\n",
    "\n",
    "    p=np.zeros(2*number)\n",
    "    for i in range(1,2*number):\n",
    "        p[i]=((quad(f_planck,0,hnu[i]))[0])\n",
    "    return (p,hnu)\n",
    "\n",
    "def hnu_of_p_planck(number=None,pdf=None,hnu=None):\n",
    "    if number is None:\n",
    "        number=1\n",
    "    if (pdf is None):\n",
    "        pdf,hnu=p_planck()\n",
    "\n",
    "    e_phot=np.interp(np.random.rand(number),pdf,hnu)\n",
    "    return(e_phot,pdf,hnu)\n",
    "\n",
    "def f_of_hnu_planck(mc_parms,number=None,pdf=None,energies=None):\n",
    "    if number is None:\n",
    "        number=1\n",
    "    if (pdf is None):\n",
    "        e,pdf,energies=hnu_of_p_planck(number=number)\n",
    "    else:\n",
    "        e,pdf,energies=hnu_of_p_planck(number=number,pdf=pdf,hnu=energies)\n",
    "    e*=mc_parms['kt_seeds']\n",
    "    return(e)\n",
    "def f_of_hnu_corona(mc_parms,number):\n",
    "  return E_samp_SCC\n",
    "\n"
   ]
  },
  {
   "cell_type": "code",
   "execution_count": null,
   "id": "66601277-087c-4152-b948-34303b2f27e4",
   "metadata": {
    "colab": {
     "base_uri": "https://localhost:8080/",
     "height": 559
    },
    "id": "66601277-087c-4152-b948-34303b2f27e4",
    "outputId": "054601b5-ed2a-4432-f997-d95939f3994a"
   },
   "outputs": [],
   "source": [
    "\n",
    "\n",
    "#modify the monte carlo sim so that the inputs come from my spectrum\n",
    "def f_of_v_maxwell(mc_parms):\n",
    "    v=3e10\n",
    "    while v >= c_light:\n",
    "        v=np.sqrt(mc_parms['kt_electron']/(m_electron))*np.sqrt(np.sum((np.random.normal(0,1,3))**2))\n",
    "    return(v)\n",
    "\n",
    "#modify the hnu_planck fuction using the distribution calculated from my Jet\n",
    "#pdf = pdfVE\n",
    "def f_of_photons(mc_parms,number=None,pdf=None,energies=None):\n",
    "    if number is None:\n",
    "        number=1\n",
    "    if (pdf is None):\n",
    "        pdf = pdfVE\n",
    "        e,temp,energies=hnu_of_p_planck(number=number)\n",
    "    else:\n",
    "        e,pdf,energies=hnu_of_p_planck(number=number,pdf=pdfVE,hnu=energies)\n",
    "    e*=mc_parms['kt_seeds']\n",
    "    return(e)\n",
    "my_mc_parms={'n_photons':10000,\n",
    "          'kt_seeds':1.6e-9,\n",
    "          'H':1e7,\n",
    "          'tau':0.1,\n",
    "          'kt_electron':3.2e-8,\n",
    "          'v_dist':f_of_v_maxwell,\n",
    "          'hnu_dist':f_of_photons}\n",
    "\n",
    "hnu_scattered,hnu_seeds=plot_mc(my_mc_parms)"
   ]
  },
  {
   "cell_type": "code",
   "execution_count": null,
   "id": "VGfH1B-3jcdj",
   "metadata": {
    "id": "VGfH1B-3jcdj"
   },
   "outputs": [],
   "source": [
    "mc_parms={'n_photons':10,            # start somewhat small and go up\n",
    "          'kt_seeds':1.6e-9,            # 1 keV input photons\n",
    "          'H':1e7,                      # say H ~ R, and R ~ 100 R_g ~ 3e7 cm\n",
    "          'velocity':3e9,               # 10% speed of light--pretty hot\n",
    "          'tau':1.0,                    # tau ~ 0.1: Small-ish optical depth\n",
    "          'kt_electron':3.2e-8,         # electron temperature: 20 keV\n",
    "          'v_dist':0,      # name of maxwell jutner function\n",
    "          'hnu_dist':f_of_hnu_planck,   # name of photon distribution function\n",
    "          'gamma_min':1.1,\n",
    "          'gamma_max':1000.0\n",
    "         }\n",
    "\n",
    "def jutner(mc_parms):\n",
    "    '''Make a maxwell juttner distribution using mc_parms in put\n",
    "  input:\n",
    "  mc_parms: gamma_min aand gamma_max, unitless\n",
    "  variables:\n",
    "  f_gamma: the  distribution in terms of lorentz factor\n",
    "  return f_gamma\n",
    "    '''\n",
    "    theta = mc_parms['kt_electron']/(m_electron*c_light**2)\n",
    "    gamma_arr = np.linspace(mc_parms['gamma_min'], mc_parms['gamma_max'])\n",
    "    bessel = kv(2, 1/theta) # evaluate the bessel at one value of theta\n",
    "    beta = np.sqrt( 1 -1/(gamma_arr)**2)\n",
    "\n",
    "    f_gamma = ((gamma_arr**2)*beta/(theta * bessel) ) * np.exp(-gamma_arr/theta) # make the distro in terms of gamma\n",
    "\n",
    "    return f_gamma\n",
    "result_of_jutner = jutner(mc_parms)\n",
    "def sample_jutner(mc_parms):\n",
    "    ''' sample a velocity from the MJ distribution\n",
    "    sample a random lorentz factor\n",
    "    convert this to a velocity to input into the monte carlo\n",
    "    input:\n",
    "     mc_parms: gamma_min aand gamma_max, unitless\n",
    "     variables\n",
    "     pdf: probability distribution function for the MJ\n",
    "     gamma_inv: the sampled lorenrtz factor\n",
    "     return\n",
    "     velocity of photon at the given gamma\n",
    "\n",
    "    '''\n",
    "    n = 1\n",
    "    pdf = result_of_jutner\n",
    "    pdf = pdf/np.sum(pdf)\n",
    "    cdf = np.cumsum(pdf)\n",
    "    cdf = np.cumsum(pdf)\n",
    "    gamma_arr = np.linspace(mc_parms['gamma_min'], mc_parms['gamma_max'])\n",
    "    # Generate n random numbers from a uniform distribution between 0 and 1\n",
    "    u = np.random.uniform(0, 1, size=n)\n",
    "    # Interpolate the inverse cdf function using numpy.interp\n",
    "    gamma_inv = np.interp(u, cdf, gamma_arr)\n",
    "    #convert to velocity\n",
    "    v = c_light*(np.sqrt(1 - 1/(gamma_inv**2)))\n",
    "    return v\n",
    "\n",
    "def wrapper_for_junter(mc_parms):\n",
    "    '''MC tutorial needs a wrapper function '''\n",
    "    x = sample_jutner(mc_parms)\n",
    "    return x"
   ]
  },
  {
   "cell_type": "code",
   "execution_count": null,
   "id": "wI87R3STi6cl",
   "metadata": {
    "id": "wI87R3STi6cl"
   },
   "outputs": [],
   "source": [
    "mc_parms={'n_photons':10000,            # start somewhat small and go up\n",
    "          'kt_seeds':1.6e-9,            # 1 keV input photons\n",
    "          'H':1e7,                      # say H ~ R, and R ~ 100 R_g ~ 3e7 cm\n",
    "          'velocity':3e9,               # 10% speed of light--pretty hot\n",
    "          'tau':1.0,                    # tau ~ 0.1: Small-ish optical depth\n",
    "          'kt_electron':3.2e-8,         # electron temperature: 20 keV\n",
    "          'v_dist':wrapper_for_junter,      # name of maxwell jutner function\n",
    "          'hnu_dist':f_of_hnu_planck,   # name of photon distribution function\n",
    "          'gamma_min':2,\n",
    "          'gamma_max':1000.0\n",
    "         }"
   ]
  },
  {
   "cell_type": "code",
   "execution_count": null,
   "id": "8a3c12f9-9b67-4a85-b127-d5df3aac0904",
   "metadata": {
    "id": "8a3c12f9-9b67-4a85-b127-d5df3aac0904"
   },
   "outputs": [],
   "source": [
    "\n",
    "def f_of_v_maxwell_jutner(mc_parms):\n",
    "    \"\"\"Returns a single randomly drawn velocity from distribution function\n",
    "    Make a maxwell jutner distribution in terms of lorentz factor\n",
    "    covert this to  a velocity\n",
    "    Do this for fixed electron temperature KT\n",
    "\n",
    "    Args:\n",
    "        mc_parms (dictionary): Monte-Carlo parameters\n",
    "\n",
    "    Returns:\n",
    "        real: electron velocity drawn from distribution\n",
    "    \"\"\"\n",
    "    theta = mc_parms['kt_electron']/(m_electron*c_light**2)\n",
    "    gamma_arr = np.linspace(mc_parms['gamma_min'], mc_parms['gamma_max'])\n",
    "    bessel = kv(2, 1/theta) # evaluate the bessel at one value of theta\n",
    "    beta = np.sqrt( 1 -1/(gamma_arr)**2)\n",
    "\n",
    "    f_gamma = ((gamma_arr**2)*beta/(theta * bessel) ) * np.exp(-gamma_arr/theta) # make the distro in terms of gamma\n",
    "\n",
    "\n",
    "    v=3e10 # needed for clipping... copied from MC tutorial\n",
    "    while v >= c_light:\n",
    "        v  = c_light*np.sqrt(1 - 1/(f_gamma)**2)\n",
    "    return(v)\n",
    "\n",
    "jutner_test = jutner(mc_parms)\n",
    "jutner_vel = sample_jutner(mc_parms)"
   ]
  },
  {
   "cell_type": "code",
   "execution_count": null,
   "id": "20049bb4-746a-4978-984e-421a571b4655",
   "metadata": {
    "colab": {
     "base_uri": "https://localhost:8080/",
     "height": 559
    },
    "id": "20049bb4-746a-4978-984e-421a571b4655",
    "outputId": "f23cdde5-3317-40d9-96e4-64ef55d8806b"
   },
   "outputs": [],
   "source": [
    "mc_parms={'n_photons':10000,            # start somewhat small and go up\n",
    "          'kt_seeds':1.6e-9,            # 1 keV input photons\n",
    "          'H':8*rg,                      # say H ~ R, and R ~ 100 R_g ~ 3e7 cm\n",
    "          'velocity':3e9,               # 10% speed of light--pretty hot\n",
    "          'tau':1.0,                    # tau ~ 0.1: Small-ish optical depth\n",
    "          'kt_electron':3.2e-8,         # electron temperature: 20 keV\n",
    "          'v_dist':wrapper_for_junter,      # name of maxwell jutner function\n",
    "          'hnu_dist':f_of_hnu_planck,   # name of photon distribution function\n",
    "          'gamma_min':2,\n",
    "          'gamma_max':1000.0\n",
    "         }\n",
    "hnu_scattered_pmc,hnu_seeds_pmc=plot_mc(mc_parms, xlims=[1e-3, 1e20]);\n",
    "hnu_scattered_mc,hnu_seeds_mc=monte_carlo(mc_parms);"
   ]
  },
  {
   "cell_type": "code",
   "execution_count": null,
   "id": "KnUoAc-bvqw2",
   "metadata": {
    "colab": {
     "base_uri": "https://localhost:8080/",
     "height": 448
    },
    "id": "KnUoAc-bvqw2",
    "outputId": "3ecfe38e-ebad-4c80-e539-58eea9e1fef2"
   },
   "outputs": [],
   "source": [
    "plt.hist(hnu_scattered_pmc);"
   ]
  },
  {
   "cell_type": "code",
   "execution_count": null,
   "id": "WPTDZRXHv7Lr",
   "metadata": {
    "colab": {
     "base_uri": "https://localhost:8080/",
     "height": 430
    },
    "id": "WPTDZRXHv7Lr",
    "outputId": "95c34d8d-8717-4bba-bafe-5eb0141c0d9e"
   },
   "outputs": [],
   "source": [
    "plt.hist(hnu_scattered_mc);"
   ]
  },
  {
   "cell_type": "code",
   "execution_count": null,
   "id": "MTmP1hnXvymP",
   "metadata": {
    "colab": {
     "base_uri": "https://localhost:8080/",
     "height": 430
    },
    "id": "MTmP1hnXvymP",
    "outputId": "8b98b906-b7ea-42e2-82b3-a35bc73ed5a2"
   },
   "outputs": [],
   "source": [
    "plt.hist(np.log(hnu_scattered_pmc));"
   ]
  },
  {
   "cell_type": "code",
   "execution_count": null,
   "id": "vR2tZu2UwACg",
   "metadata": {
    "colab": {
     "base_uri": "https://localhost:8080/",
     "height": 430
    },
    "id": "vR2tZu2UwACg",
    "outputId": "a4800fac-febc-44f6-f69b-38e9cea74c7a"
   },
   "outputs": [],
   "source": [
    "plt.hist(np.log(hnu_scattered_mc));"
   ]
  },
  {
   "cell_type": "code",
   "execution_count": null,
   "id": "97yZ0e9AV8nq",
   "metadata": {
    "colab": {
     "base_uri": "https://localhost:8080/",
     "height": 525
    },
    "id": "97yZ0e9AV8nq",
    "outputId": "e038cdc5-6600-4b98-cc46-95612b515648"
   },
   "outputs": [],
   "source": [
    "mc_parms={'n_photons':len(E_samp_SCC),            # start somewhat small and go up\n",
    "          'kt_seeds':1.6e-9,            # 1 keV input photons\n",
    "          'H':1e7,                      # say H ~ R, and R ~ 100 R_g ~ 3e7 cm\n",
    "          'velocity':3e9,               # 10% speed of light--pretty hot\n",
    "          'tau':1.0,                    # tau ~ 0.1: Small-ish optical depth\n",
    "          'kt_electron':3.2e-8,         # electron temperature: 20 keV\n",
    "          'v_dist':wrapper_for_junter,      # name of maxwell jutner function\n",
    "          'hnu_dist':f_of_hnu_corona,   # name of photon distribution function\n",
    "          'gamma_min':2,\n",
    "          'gamma_max':1000.0\n",
    "         }\n",
    "hnu_scattered,hnu_seeds=plot_mc(mc_parms, xlims=[1e-3, 1e20]);"
   ]
  }
 ],
 "metadata": {
  "colab": {
   "provenance": []
  },
  "kernelspec": {
   "display_name": "Python 3 (ipykernel)",
   "language": "python",
   "name": "python3"
  },
  "language_info": {
   "codemirror_mode": {
    "name": "ipython",
    "version": 3
   },
   "file_extension": ".py",
   "mimetype": "text/x-python",
   "name": "python",
   "nbconvert_exporter": "python",
   "pygments_lexer": "ipython3",
   "version": "3.11.4"
  }
 },
 "nbformat": 4,
 "nbformat_minor": 5
}
